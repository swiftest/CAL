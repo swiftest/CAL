{
 "cells": [
  {
   "cell_type": "code",
   "execution_count": 1,
   "metadata": {},
   "outputs": [],
   "source": [
    "from sklearn.preprocessing import StandardScaler\n",
    "from mpl_toolkits.mplot3d import Axes3D\n",
    "from sklearn.decomposition import PCA\n",
    "import torch.backends.cudnn as cudnn\n",
    "import matplotlib.pyplot as plt\n",
    "import torch.utils.data as Data\n",
    "import matplotlib as mpl\n",
    "import scipy.io as sio\n",
    "import numpy as np\n",
    "import argparse\n",
    "import h5py\n",
    "import time\n",
    "\n",
    "import torch\n",
    "import torch.nn as nn\n",
    "from torch import optim\n",
    "import torch.utils.data as Data\n",
    "import torch.nn.functional as F\n",
    "from torchsummary import summary\n",
    "import torch.backends.cudnn as cudnn\n",
    "from sklearn.metrics import confusion_matrix\n",
    "\n",
    "from auxiliary_classifier import auxiliary_test_epoch\n",
    "from auxiliary_classifier import auxiliary_train_epoch\n",
    "from auxiliary_classifier import auxiliary_valid_epoch\n",
    "\n",
    "from data_prepare import mirror_hsi\n",
    "from Utils import ActivationOutputData, safe_norm\n",
    "from caps_vit import CapsViT, Margin_Recon_Loss\n",
    "from data_prepare import choose_train_and_test_number\n",
    "from Utils import output_metric, plot_confusion_matrix\n",
    "from Utils import train_epoch, test_epoch, valid_epoch\n",
    "from data_prepare import choose_train_and_test_proportion\n",
    "from Utils import list_to_colormap, classification_map, print_args\n",
    "\n",
    "from einops import rearrange, repeat\n",
    "\n",
    "%matplotlib inline"
   ]
  },
  {
   "cell_type": "code",
   "execution_count": 2,
   "metadata": {},
   "outputs": [],
   "source": [
    "parser = argparse.ArgumentParser(\"HSI\")\n",
    "parser.add_argument('--dataset', choices=['Chikusei', 'Pavia', 'KSC', 'HU2013'], default='KSC', help='dataset to use')\n",
    "parser.add_argument('--flag_test', choices=['test', 'train'], default='train', help='testing mark')\n",
    "parser.add_argument('--mode', choices=['ViT', 'CAF'], default='CAF', help='mode choice')\n",
    "parser.add_argument('--seed', type=int, default=0, help='number of seed')\n",
    "parser.add_argument('--batch_size', type=int, default=32, help='number of batch size')\n",
    "parser.add_argument('--patch_size', type=int, default=9, help='size of patches')\n",
    "parser.add_argument('--band_patches', type=int, default=1, help='number of related band')\n",
    "parser.add_argument('--epoches', type=int, default=200, help='epoch number')\n",
    "parser.add_argument('--learning_rate', type=float, default=5e-4, help='learning rate')\n",
    "parser.add_argument('--gamma', type=float, default=0.9, help='gamma')\n",
    "parser.add_argument('--weight_decay', type=float, default=0, help='weight_decay')\n",
    "parser.add_argument('--train_proportion', type=float, default=0.1, help='num_train_per_class')\n",
    "args = parser.parse_args(args=[])"
   ]
  },
  {
   "cell_type": "code",
   "execution_count": 4,
   "metadata": {},
   "outputs": [
    {
     "name": "stdout",
     "output_type": "stream",
     "text": [
      "The class numbers of the HSI data is: 13\n"
     ]
    }
   ],
   "source": [
    "# prepare data\n",
    "if args.dataset == 'Chikusei':\n",
    "    data = h5py.File('./dataset/Chikusei.mat', 'r')['chikusei']\n",
    "    data = np.array(data)\n",
    "    data = np.transpose(data, (2, 1, 0))\n",
    "    label = sio.loadmat('./dataset/Chikusei_gt.mat')['GT'][0][0][0]\n",
    "elif args.dataset == 'HU2013':\n",
    "    data = sio.loadmat('./dataset/Houston.mat')['Houston']\n",
    "    label = sio.loadmat('./dataset/Houston_gt.mat')['Houston_gt']\n",
    "elif args.dataset == 'Pavia':\n",
    "    data = sio.loadmat('./dataset/PaviaU.mat')['paviaU']\n",
    "    label = sio.loadmat('./dataset/PaviaU_gt.mat')['paviaU_gt']\n",
    "elif args.dataset == 'KSC':\n",
    "    data = sio.loadmat('./dataset/KSC.mat')['KSC']\n",
    "    label = sio.loadmat('./dataset/KSC_gt.mat')['KSC_gt']\n",
    "else:\n",
    "    raise ValueError(\"Unknown dataset\")\n",
    "    \n",
    "num_classes = np.max(label)\n",
    "print('The class numbers of the HSI data is:', num_classes)"
   ]
  },
  {
   "cell_type": "code",
   "execution_count": 5,
   "metadata": {},
   "outputs": [],
   "source": [
    "shapeor = data.shape\n",
    "data = data.reshape(np.prod(data.shape[:2]), np.prod(data.shape[2:]))\n",
    "\n",
    "std_scaler = StandardScaler()\n",
    "std_data = std_scaler.fit_transform(data)\n",
    "data = std_data.reshape(shapeor)"
   ]
  },
  {
   "cell_type": "code",
   "execution_count": 6,
   "metadata": {},
   "outputs": [
    {
     "name": "stdout",
     "output_type": "stream",
     "text": [
      "height=512, width=614, band=176\n"
     ]
    }
   ],
   "source": [
    "total_pos_train, total_pos_test, total_pos_true, number_train, number_test, number_true = \\\n",
    "choose_train_and_test_proportion(label, args.train_proportion)\n",
    "#  Don't forget to modify the choose_train_and_test_proportion function in the data_prepare module.\n",
    "\n",
    "# data size\n",
    "height, width, band = data.shape\n",
    "print(\"height={0}, width={1}, band={2}\".format(height, width, band))"
   ]
  },
  {
   "cell_type": "code",
   "execution_count": 7,
   "metadata": {},
   "outputs": [],
   "source": [
    "# 获取patch的图像数据\n",
    "def gain_neighborhood_pixel(mirror_image, point, i, patch=5):\n",
    "    x = point[i, 0]\n",
    "    y = point[i, 1]\n",
    "    temp_image = mirror_image[x:(x+patch), y:(y+patch), :]\n",
    "    return temp_image"
   ]
  },
  {
   "cell_type": "code",
   "execution_count": 8,
   "metadata": {},
   "outputs": [],
   "source": [
    "def gain_neighborhood_band(x_train, band, band_patch=1, patch=9):\n",
    "    n = band_patch // 2  # 1\n",
    "    p = (patch * patch) // 2  # 12\n",
    "    x_train_reshape = x_train.reshape(x_train.shape[0], patch*patch, band)  # (695, 25, 200)\n",
    "    x_train_band = np.zeros((x_train.shape[0], patch*patch*band_patch, band), dtype=float)  # (695, 75, 200)\n",
    "    # 中心区域\n",
    "    x_train_band[:, patch*patch*n:(n+1)*patch*patch, :] = x_train_reshape \n",
    "    # 左边镜像\n",
    "    for i in range(n):\n",
    "        if p > 0:\n",
    "            x_train_band[:, i*patch*patch:(i+1)*patch*patch, :i+1] = x_train_reshape[:, :, band-i-1:]\n",
    "            x_train_band[:, i*patch*patch:(i+1)*patch*patch, i+1:] = x_train_reshape[:, :, :band-i-1]\n",
    "        else:\n",
    "            x_train_band[:, i:(i+1), :(n-i)] = x_train_reshape[:, 0:1, (band-nn+i):]\n",
    "            x_train_band[:, i:(i+1), (n-i):] = x_train_reshape[:, 0:1, :(band-nn+i)]\n",
    "    #右边镜像\n",
    "    for i in range(n):\n",
    "        if p > 0:\n",
    "            x_train_band[:, (n+i+1)*patch*patch:(n+i+2)*patch*patch, :band-i-1] = x_train_reshape[:, :, i+1:]\n",
    "            x_train_band[:, (n+i+1)*patch*patch:(n+i+2)*patch*patch, band-i-1:] = x_train_reshape[:, :, :i+1]\n",
    "        else:\n",
    "            x_train_band[:, (n+1+i):(n+2+i), (band-i-1):] = x_train_reshape[:, 0:1, :(i+1)]\n",
    "            x_train_band[:, (n+1+i):(n+2+i), :(band-i-1)] = x_train_reshape[:, 0:1, (i+1):]\n",
    "    return x_train_band"
   ]
  },
  {
   "cell_type": "code",
   "execution_count": 9,
   "metadata": {},
   "outputs": [],
   "source": [
    "# 汇总训练数据和测试数据\n",
    "def train_and_test_data(mirror_image, band, train_point, test_point, true_point, patch=9, band_patch=1):\n",
    "    x_train = np.zeros((train_point.shape[0], patch, patch, band), dtype=float)  # (695, 5, 5, 200)\n",
    "    x_test = np.zeros((test_point.shape[0], patch, patch, band), dtype=float)  # (9671, 5, 5, 200)\n",
    "    x_true = np.zeros((true_point.shape[0], patch, patch, band), dtype=float)\n",
    "    for i in range(train_point.shape[0]):\n",
    "        x_train[i] = gain_neighborhood_pixel(mirror_image, train_point, i, patch)\n",
    "    for j in range(test_point.shape[0]):\n",
    "        x_test[j,:,:,:] = gain_neighborhood_pixel(mirror_image, test_point, j, patch)\n",
    "    for k in range(true_point.shape[0]):\n",
    "        x_true[k,:,:,:] = gain_neighborhood_pixel(mirror_image, true_point, k, patch)\n",
    "    print(\"x_train shape = {}, type = {}\".format(x_train.shape,x_train.dtype))\n",
    "    print(\"x_test  shape = {}, type = {}\".format(x_test.shape,x_test.dtype))\n",
    "    print(\"x_true  shape = {}, type = {}\".format(x_true.shape,x_test.dtype))\n",
    "    print(\"**************************************************\")\n",
    "    x_train_band = gain_neighborhood_band(x_train, band, band_patch, patch)\n",
    "    x_test_band = gain_neighborhood_band(x_test, band, band_patch, patch)\n",
    "    x_true_band = gain_neighborhood_band(x_true, band, band_patch, patch)\n",
    "    print(\"x_train_band shape = {}, type = {}\".format(x_train_band.shape, x_train_band.dtype))\n",
    "    print(\"x_test_band  shape = {}, type = {}\".format(x_test_band.shape, x_test_band.dtype))\n",
    "    print(\"x_true_band  shape = {}, type = {}\".format(x_true_band.shape, x_true_band.dtype))\n",
    "    print(\"**************************************************\")\n",
    "    return x_train_band, x_test_band, x_true_band"
   ]
  },
  {
   "cell_type": "code",
   "execution_count": 10,
   "metadata": {},
   "outputs": [],
   "source": [
    "# 标签y_train, y_test\n",
    "def train_and_test_label(number_train, number_test, number_true, num_classes):\n",
    "    y_train = []\n",
    "    y_test = []\n",
    "    y_true = []\n",
    "    for i in range(num_classes):\n",
    "        for j in range(number_train[i]):\n",
    "            y_train.append(i)\n",
    "        for k in range(number_test[i]):\n",
    "            y_test.append(i)\n",
    "        for n in range(number_true[i]):\n",
    "            y_true.append(i)\n",
    "    y_train = np.array(y_train)\n",
    "    y_test = np.array(y_test)\n",
    "    y_true = np.array(y_true)\n",
    "    print(\"y_train: shape = {} ,type = {}\".format(y_train.shape,y_train.dtype))\n",
    "    print(\"y_test: shape = {} ,type = {}\".format(y_test.shape,y_test.dtype))\n",
    "    print(\"y_true: shape = {} ,type = {}\".format(y_true.shape,y_true.dtype))\n",
    "    print(\"**************************************************\")\n",
    "    return y_train, y_test, y_true"
   ]
  },
  {
   "cell_type": "code",
   "execution_count": 11,
   "metadata": {},
   "outputs": [
    {
     "name": "stdout",
     "output_type": "stream",
     "text": [
      "**************************************************\n",
      "patch_size is : 9\n",
      "mirror_data shape : [520, 622, 176]\n",
      "**************************************************\n",
      "x_train shape = (528, 9, 9, 176), type = float64\n",
      "x_test  shape = (4683, 9, 9, 176), type = float64\n",
      "x_true  shape = (5211, 9, 9, 176), type = float64\n",
      "**************************************************\n",
      "x_train_band shape = (528, 81, 176), type = float64\n",
      "x_test_band  shape = (4683, 81, 176), type = float64\n",
      "x_true_band  shape = (5211, 81, 176), type = float64\n",
      "**************************************************\n",
      "y_train: shape = (528,) ,type = int64\n",
      "y_test: shape = (4683,) ,type = int64\n",
      "y_true: shape = (5211,) ,type = int64\n",
      "**************************************************\n"
     ]
    }
   ],
   "source": [
    "mirror_data = mirror_hsi(height, width, band, data, patch_size=args.patch_size)\n",
    "\n",
    "x_train_band, x_test_band, x_true_band = train_and_test_data(mirror_data, band, total_pos_train, \n",
    "                                                             total_pos_test, total_pos_true)\n",
    "\n",
    "y_train, y_test, y_true = train_and_test_label(number_train, number_test, number_true, num_classes)"
   ]
  },
  {
   "cell_type": "code",
   "execution_count": 12,
   "metadata": {},
   "outputs": [
    {
     "name": "stdout",
     "output_type": "stream",
     "text": [
      "torch.Size([528, 176, 81]) torch.Size([528])\n"
     ]
    }
   ],
   "source": [
    "# load data\n",
    "x_train = torch.from_numpy(x_train_band.transpose(0, 2, 1)).type(torch.FloatTensor)  # (695, 200, 75)\n",
    "y_train = torch.from_numpy(y_train).type(torch.LongTensor)  # (695)\n",
    "print(x_train.shape, y_train.shape)\n",
    "Label_train = Data.TensorDataset(x_train, y_train)\n",
    "\n",
    "x_test = torch.from_numpy(x_test_band.transpose(0,2,1)).type(torch.FloatTensor) # [9671, 200, 75]\n",
    "y_test = torch.from_numpy(y_test).type(torch.LongTensor) # [9671]\n",
    "Label_test = Data.TensorDataset(x_test, y_test)\n",
    "\n",
    "x_true = torch.from_numpy(x_true_band.transpose(0,2,1)).type(torch.FloatTensor)\n",
    "y_true = torch.from_numpy(y_true).type(torch.LongTensor)\n",
    "Label_true = Data.TensorDataset(x_true, y_true)\n",
    "\n",
    "train_loader = Data.DataLoader(Label_train, batch_size=args.batch_size, shuffle=True)\n",
    "test_loader = Data.DataLoader(Label_test, batch_size=args.batch_size, shuffle=True)\n",
    "true_loader = Data.DataLoader(Label_true, batch_size=100, shuffle=False)"
   ]
  },
  {
   "cell_type": "markdown",
   "metadata": {},
   "source": [
    "## Create Model"
   ]
  },
  {
   "cell_type": "code",
   "execution_count": 13,
   "metadata": {},
   "outputs": [],
   "source": [
    "class Residual(nn.Module):\n",
    "    def __init__(self, fn):\n",
    "        super().__init__()\n",
    "        self.fn = fn\n",
    "    def forward(self, x, **kwargs):\n",
    "        return self.fn(x, **kwargs) + x"
   ]
  },
  {
   "cell_type": "code",
   "execution_count": 14,
   "metadata": {},
   "outputs": [],
   "source": [
    "class PreNorm(nn.Module):\n",
    "    def __init__(self, dim, fn):\n",
    "        super().__init__()\n",
    "        self.norm = nn.LayerNorm(dim)  # 在特征维度进行归一化\n",
    "        self.fn = fn\n",
    "    def forward(self, x, **kwargs):\n",
    "        return self.fn(self.norm(x), **kwargs)"
   ]
  },
  {
   "cell_type": "code",
   "execution_count": 15,
   "metadata": {},
   "outputs": [],
   "source": [
    "class FeedForward(nn.Module):\n",
    "    def __init__(self, dim, hidden_dim, dropout=0.):\n",
    "        super().__init__()\n",
    "        self.net = nn.Sequential(\n",
    "            nn.Linear(dim, hidden_dim), \n",
    "            nn.GELU(), \n",
    "            nn.Dropout(dropout), \n",
    "            nn.Linear(hidden_dim, dim), \n",
    "            nn.Dropout(dropout)\n",
    "        )\n",
    "    def forward(self, x):\n",
    "        return self.net(x)"
   ]
  },
  {
   "cell_type": "code",
   "execution_count": 16,
   "metadata": {},
   "outputs": [],
   "source": [
    "class Attention(nn.Module):\n",
    "    \"\"\"\n",
    "    dim_head = 16  注意力的维度\n",
    "    dim = 64\n",
    "    heads = 4\n",
    "    \"\"\"\n",
    "    def __init__(self, dim, heads, dim_head, dropout):\n",
    "        super().__init__()\n",
    "        inner_dim = dim_head * heads  # 64  多头注意力级联之后的维度，这里有4头注意力\n",
    "        self.heads = heads  # 4\n",
    "        self.scale = dim_head ** -0.5  # 16 ** (-0.5) = 0.25\n",
    "        \n",
    "        self.to_qkv = nn.Linear(dim, inner_dim * 3, bias=False)  # (batch, 201, 64 * 3)\n",
    "        self.to_out = nn.Sequential(\n",
    "            nn.Linear(inner_dim, dim),   # 恢复到原始嵌入特征的维度\n",
    "            nn.Dropout(dropout)\n",
    "        )\n",
    "    def forward(self, x, mask=None):\n",
    "        # x: (batch, 201, 64)\n",
    "        b, n, _, h = *x.shape, self.heads  # batch, 201, 64, 4\n",
    "        \n",
    "        # get qkv tuple: ((batch, 201, 64), (...), (...))\n",
    "        qkv = self.to_qkv(x).chunk(3, dim=-1)\n",
    "        q, k, v = map(lambda t: rearrange(t, 'b n (h d) -> b h n d', h=h), qkv)  # q, k, v : (batch, 4, 201, 16)\n",
    "        \n",
    "        # transpose(k) * q / sqrt(dim_head) -> (batch, head_num, 201, 201)\n",
    "        dots = torch.einsum('bhid, bhjd->bhij', q, k) * self.scale  # batch matrix multiplication :(batch, 4, 201, 201)\n",
    "        mask_value = -torch.finfo(dots.dtype).max\n",
    "        \n",
    "        # mask value: -inf\n",
    "        if mask is not None:\n",
    "            mask = F.pad(mask.flatten(1), (1, 0), value = True)  # 在第0个维度填充元素1.\n",
    "            assert mask.shape[-1] == dots.shape[-1], 'mask has incorrect dimensions'\n",
    "            mask = mask[:, None, :] * mask[:, :, None]\n",
    "            dots.masked_fill_(~mask, mask_value)\n",
    "            del mask\n",
    "            \n",
    "        # softmax normalization -> attention matrix\n",
    "        attn = dots.softmax(dim=-1)  # (batch, 4, 201, 201)\n",
    "        # attn * attention matrix -> output\n",
    "        out = torch.einsum('bhij, bhjd -> bhid', attn, v)  # (batch, 4, 201, 16)\n",
    "        # cat all output -> (batch, 201, dim_head * heads)\n",
    "        out = rearrange(out, 'b h n d -> b n (h d)')  # (batch, 201, 64)\n",
    "        out = self.to_out(out)  # 恢复到原始嵌入特征的维度以进行残差学习\n",
    "        return out"
   ]
  },
  {
   "cell_type": "code",
   "execution_count": 17,
   "metadata": {},
   "outputs": [],
   "source": [
    "class Transformer(nn.Module):\n",
    "    \"\"\"\n",
    "    dim: 嵌入特征维数 64\n",
    "    depth: Transformer中编码器的层数(个数) 5\n",
    "    heads: 多头注意力机制里面的头数 4\n",
    "    mlp_dim: Transformer编码器中MLP层的中间隐藏层的维数 8\n",
    "    dim_head: 注意力的维度\n",
    "    \"\"\"\n",
    "    def __init__(self, dim, depth, heads, dim_head, mlp_dim, dropout, num_channel, mode):\n",
    "        super().__init__()\n",
    "        \n",
    "        self.layers = nn.ModuleList([])\n",
    "        for _ in range(depth):\n",
    "            self.layers.append(nn.ModuleList([\n",
    "                Residual(PreNorm(dim, Attention(dim, heads = heads, dim_head = dim_head, dropout = dropout))),\n",
    "                Residual(PreNorm(dim, FeedForward(dim, mlp_dim, dropout = dropout)))\n",
    "            ]))\n",
    "\n",
    "        self.mode = mode\n",
    "        self.skipcat = nn.ModuleList([])\n",
    "        for _ in range(depth-2):\n",
    "            self.skipcat.append(nn.Conv2d(num_channel+1, num_channel+1, [1, 2], 1, 0))\n",
    "            \n",
    "    def forward(self, x, mask=None):\n",
    "        # x: (batch, 201, 64)\n",
    "        if self.mode == 'ViT':\n",
    "            for attn, ff in self.layers:\n",
    "                x = attn(x, mask=mask)\n",
    "                x = ff(x)\n",
    "        elif self.mode == 'CAF':\n",
    "            last_output = []\n",
    "            nl = 0\n",
    "            for attn, ff in self.layers:\n",
    "                last_output.append(x)\n",
    "                if nl > 1:\n",
    "                    x = self.skipcat[nl-2](torch.cat([x.unsqueeze(3), last_output[nl-2].unsqueeze(3)], dim=3)).squeeze(3)\n",
    "                x = attn(x)\n",
    "                x = ff(x)\n",
    "                nl += 1\n",
    "        return x"
   ]
  },
  {
   "cell_type": "code",
   "execution_count": 18,
   "metadata": {},
   "outputs": [],
   "source": [
    "class ViT(nn.Module):\n",
    "    \"\"\"\n",
    "    dim: 嵌入特征维数 64\n",
    "    depth: Transformer中编码器的层数(个数) 5\n",
    "    heads: 多头注意力机制里面的头数 4 \n",
    "    mlp_dim: Transformer编码器中MLP层的中间隐藏层的维数 8\n",
    "    dim_head: 注意力的维度\n",
    "    \"\"\"\n",
    "    def __init__(self, image_size, near_band, num_patches, num_classes, dim, depth, heads, mlp_dim,\n",
    "                 channels=1, dim_head=16, dropout=0.1, emb_dropout=0.1, mode='ViT'):\n",
    "        super().__init__()\n",
    "        patch_dim = image_size ** 2 * near_band  # 75\n",
    "        \n",
    "        self.pos_embedding = nn.Parameter(torch.randn(1, num_patches + 1, dim))  # (1, 201, dim)，dim表示嵌入特征维度\n",
    "        self.patch_to_embedding = nn.Linear(patch_dim, dim)  # (batch, 200, 64)\n",
    "        self.cls_token = nn.Parameter(torch.randn(1, 1, dim))  # (1, 1, 64)\n",
    "        \n",
    "        self.dropout = nn.Dropout(emb_dropout)\n",
    "        self.transformer = Transformer(dim, depth, heads, dim_head, mlp_dim, dropout, num_patches, mode)\n",
    "        \n",
    "        self.to_latent = nn.Identity()\n",
    "        self.mlp_head = nn.Sequential(\n",
    "            nn.LayerNorm(dim), \n",
    "            nn.Linear(dim, num_classes)\n",
    "        )\n",
    "        \n",
    "    def forward(self, x, mask=None):\n",
    "        # x: (batch, patch_num, patch*patch*near_band) (batch, 200, 75)\n",
    "        \n",
    "        ## embedding every patch vector to embedding size: (batch, patch_num, embedding_size)\n",
    "        x = self.patch_to_embedding(x)  # (batch, 200, 64)\n",
    "        b, n, _ = x.shape\n",
    "        \n",
    "        # add position embedding\n",
    "        cls_tokens = repeat(self.cls_token, '() n d -> b n d', b=b)  # (batch, 1, 64(dim))\n",
    "        x = torch.cat((cls_tokens, x), dim=1)  # (batch, 201, 64)\n",
    "        x += self.pos_embedding # (batch, 201, 64)\n",
    "        x = self.dropout(x)\n",
    "        \n",
    "        # transformer: x: (batch, 201, 64(dim)) -> (batch, 201, 64(dim))\n",
    "        x = self.transformer(x, mask)\n",
    "        \n",
    "        # classification: using cls_token output\n",
    "        x = self.to_latent(x[:, 0])  # x[:, 0]: (batch, 64)\n",
    "        \n",
    "        # MLP classification layer\n",
    "        return self.mlp_head(x)"
   ]
  },
  {
   "cell_type": "code",
   "execution_count": 19,
   "metadata": {},
   "outputs": [],
   "source": [
    "model = ViT(image_size=args.patch_size, near_band=args.band_patches, num_patches=band, \n",
    "            num_classes=num_classes, dim=64, depth=5, heads=4, mlp_dim=8, dropout=0.1, \n",
    "            emb_dropout= 0.1, mode = args.mode)"
   ]
  },
  {
   "cell_type": "code",
   "execution_count": 20,
   "metadata": {},
   "outputs": [],
   "source": [
    "model = model.cuda()\n",
    "# criterion\n",
    "criterion = nn.CrossEntropyLoss().cuda()\n",
    "# optimizer\n",
    "optimizer = torch.optim.Adam(model.parameters(), lr=args.learning_rate, weight_decay=args.weight_decay)\n",
    "scheduler = torch.optim.lr_scheduler.StepLR(optimizer, step_size=args.epoches//10, gamma=args.gamma)"
   ]
  },
  {
   "cell_type": "markdown",
   "metadata": {},
   "source": [
    "## Valid"
   ]
  },
  {
   "cell_type": "code",
   "execution_count": null,
   "metadata": {
    "tags": []
   },
   "outputs": [],
   "source": [
    "print('start training')\n",
    "# train model\n",
    "model.train()\n",
    "tic = time.time()\n",
    "for epoch in range(args.epoches):\n",
    "    # 计算的是移动平均准确率\n",
    "    train_acc, train_obj, tar_train, pre_train = auxiliary_train_epoch(model, train_loader, criterion, optimizer)\n",
    "    OA_trian, AA_mean_train, Kappa_train, AA_train = output_metric(tar_train, pre_train)\n",
    "    print(\"Epoch: {:03d} train_loss: {:.4f} train_acc: {:.4f}\".format(epoch+1, train_obj, train_acc))\n",
    "    scheduler.step()\n",
    "    \n",
    "toc = time.time()\n",
    "print(\"Running Time: {:.2f}\".format(toc-tic))\n",
    "print(\"**************************************************\")"
   ]
  },
  {
   "cell_type": "code",
   "execution_count": 21,
   "metadata": {},
   "outputs": [
    {
     "name": "stderr",
     "output_type": "stream",
     "text": [
      "findfont: Font family ['Times New Roman'] not found. Falling back to DejaVu Sans.\n",
      "findfont: Font family ['Times New Roman'] not found. Falling back to DejaVu Sans.\n"
     ]
    },
    {
     "data": {
      "image/png": "[encoded data removed]",
      "text/plain": [
       "<Figure size 936x720 with 2 Axes>"
      ]
     },
     "metadata": {
      "needs_background": "light"
     },
     "output_type": "display_data"
    },
    {
     "name": "stdout",
     "output_type": "stream",
     "text": [
      "**************************************************\n",
      "Final result:\n",
      "OA: 93.02% | AA: 88.38% | Kappa: 0.9222\n",
      "[1.         0.93119266 0.88695652 0.5619469  0.5        0.89320388\n",
      " 0.93617021 0.83979328 0.98076923 0.97796143 0.99469496 0.98672566\n",
      " 1.        ]\n",
      "**************************************************\n",
      "Parameter:\n",
      "dataset: KSC\n",
      "flag_test: train\n",
      "mode: CAF\n",
      "seed: 0\n",
      "batch_size: 32\n",
      "patch_size: 9\n",
      "band_patches: 1\n",
      "epoches: 200\n",
      "learning_rate: 0.0005\n",
      "gamma: 0.9\n",
      "weight_decay: 0\n",
      "train_proportion: 0.1\n",
      "**************************************************\n"
     ]
    }
   ],
   "source": [
    "model.eval()\n",
    "tar_test, pre_test = auxiliary_test_epoch(model, test_loader)  # 收集所有真实标签和预测标签(np.array)\n",
    "OA_test, AA_mean_test, Kappa_test, AA_test = output_metric(tar_test, pre_test)\n",
    "\n",
    "# output classification maps\n",
    "pre_u = auxiliary_valid_epoch(model, true_loader)\n",
    "prediction_matrix = np.zeros((height, width), dtype=float)  # (512, 614)\n",
    "for i in range(total_pos_true.shape[0]):\n",
    "    prediction_matrix[total_pos_true[i, 0], total_pos_true[i, 1]] = pre_u[i] + 1\n",
    "cm = confusion_matrix(tar_test, pre_test)\n",
    "plot_confusion_matrix(args.dataset, cm, path='./Confusion_Map_SpectralFormer.pdf')\n",
    "\n",
    "print(\"**************************************************\")\n",
    "print(\"Final result:\")\n",
    "print(\"OA: {:.2f}% | AA: {:.2f}% | Kappa: {:.4f}\".format(OA_test * 100., AA_mean_test*100., Kappa_test))\n",
    "print(AA_test)\n",
    "print(\"**************************************************\")\n",
    "print(\"Parameter:\")\n",
    "print_args(vars(args))\n",
    "print(\"**************************************************\")"
   ]
  },
  {
   "cell_type": "code",
   "execution_count": null,
   "metadata": {},
   "outputs": [],
   "source": []
  }
 ],
 "metadata": {
  "kernelspec": {
   "display_name": "Python 3 (ipykernel)",
   "language": "python",
   "name": "python3"
  },
  "language_info": {
   "codemirror_mode": {
    "name": "ipython",
    "version": 3
   },
   "file_extension": ".py",
   "mimetype": "text/x-python",
   "name": "python",
   "nbconvert_exporter": "python",
   "pygments_lexer": "ipython3",
   "version": "3.10.12"
  }
 },
 "nbformat": 4,
 "nbformat_minor": 4
}
