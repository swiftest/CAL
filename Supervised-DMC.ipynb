{
 "cells": [
  {
   "cell_type": "code",
   "execution_count": 1,
   "metadata": {
    "id": "DZU9nS-J714K"
   },
   "outputs": [],
   "source": [
    "import h5py\n",
    "import time\n",
    "import argparse\n",
    "import numpy as np\n",
    "import scipy.io as sio\n",
    "from copy import deepcopy\n",
    "from einops import rearrange\n",
    "import matplotlib.pyplot as plt\n",
    "from torch.nn.modules.loss import _Loss\n",
    "\n",
    "import torch\n",
    "import torch.nn as nn\n",
    "from torch import optim\n",
    "import torch.utils.data as Data\n",
    "import torch.nn.functional as F\n",
    "from torchsummary import summary\n",
    "import torch.backends.cudnn as cudnn\n",
    "\n",
    "from sklearn.decomposition import PCA\n",
    "from sklearn.metrics import confusion_matrix, accuracy_score\n",
    "from sklearn.preprocessing import StandardScaler\n",
    "\n",
    "from data_prepare import mirror_hsi\n",
    "from data_prepare import choose_train_and_test_number\n",
    "from data_prepare import choose_train_and_test_proportion\n",
    "from data_prepare import train_and_test_data, train_and_test_label\n",
    "\n",
    "from Utils import ActivationOutputData\n",
    "from Utils import AverageMeter, accuracy\n",
    "from Utils import output_metric, plot_confusion_matrix\n",
    "from Utils import train_epoch, test_epoch, valid_epoch\n",
    "from Utils import list_to_colormap, classification_map, print_args\n",
    "\n",
    "from datetime import datetime\n",
    "import math\n",
    "from operator import truediv\n",
    "import os\n",
    "import pickle\n",
    "\n",
    "%matplotlib inline"
   ]
  },
  {
   "cell_type": "code",
   "execution_count": 2,
   "metadata": {},
   "outputs": [],
   "source": [
    "parser = argparse.ArgumentParser(\"Caps-Transformer\")\n",
    "parser.add_argument('--dataset', choices=['Chikusei', 'Pavia', 'KSC', 'HU2013'], default='KSC', help='dataset to use')\n",
    "parser.add_argument('--flag_test', choices=['test', 'train'], default='train', help='testing mark')\n",
    "parser.add_argument('--gpu_id', default='0', help='GPU id')\n",
    "parser.add_argument('--seed', type=int, default=0, help='number of seed')\n",
    "parser.add_argument('--batch_size', type=int, default=32, help='number of batch size')\n",
    "parser.add_argument('--patch_size', type=int, default=25, help='size of patches')\n",
    "parser.add_argument('--epoches', type=int, default=50, help='epoch number')\n",
    "parser.add_argument('--weight_decay', type=float, default=2e-7, help='weight_decay')\n",
    "parser.add_argument('--learning_rate', type=float, default=3e-3, help='learning rate')\n",
    "parser.add_argument('--gamma', type=float, default=0.99, help='gamma')\n",
    "parser.add_argument('--train_number', type=int, default=1, help='num_train_per_class')\n",
    "parser.add_argument('--train_proportion', type=float, default=0.1, help='num_train_per_class')\n",
    "args = parser.parse_args(args=[])"
   ]
  },
  {
   "cell_type": "code",
   "execution_count": 3,
   "metadata": {},
   "outputs": [
    {
     "name": "stdout",
     "output_type": "stream",
     "text": [
      "The class numbers of the HSI data is: 13\n"
     ]
    }
   ],
   "source": [
    "# prepare data\n",
    "if args.dataset == 'Chikusei':\n",
    "    data = h5py.File('./dataset/Chikusei.mat', 'r')['chikusei']\n",
    "    data = np.array(data)\n",
    "    data = np.transpose(data, (2, 1, 0))\n",
    "    label = sio.loadmat('./dataset/Chikusei_gt.mat')['GT'][0][0][0]\n",
    "elif args.dataset == 'HU2013':\n",
    "    data = sio.loadmat('./dataset/Houston.mat')['Houston']\n",
    "    label = sio.loadmat('./dataset/Houston_gt.mat')['Houston_gt']\n",
    "elif args.dataset == 'Pavia':\n",
    "    data = sio.loadmat('./dataset/PaviaU.mat')['paviaU']\n",
    "    label = sio.loadmat('./dataset/PaviaU_gt.mat')['paviaU_gt']\n",
    "elif args.dataset == 'KSC':\n",
    "    data = sio.loadmat('./dataset/KSC.mat')['KSC']\n",
    "    label = sio.loadmat('./dataset/KSC_gt.mat')['KSC_gt']\n",
    "else:\n",
    "    raise ValueError(\"Unknown dataset\")\n",
    "    \n",
    "num_classes = np.max(label)\n",
    "print('The class numbers of the HSI data is:', num_classes)"
   ]
  },
  {
   "cell_type": "code",
   "execution_count": 4,
   "metadata": {},
   "outputs": [],
   "source": [
    "shapeor = data.shape\n",
    "data = data.reshape(np.prod(data.shape[:2]), np.prod(data.shape[2:]))\n",
    "\n",
    "std_scaler = StandardScaler()\n",
    "std_data = std_scaler.fit_transform(data)\n",
    "data = std_data.reshape(shapeor)"
   ]
  },
  {
   "cell_type": "code",
   "execution_count": 5,
   "metadata": {},
   "outputs": [],
   "source": [
    "total_pos_train, total_pos_test, total_pos_true, number_train, number_test, number_true = \\\n",
    "choose_train_and_test_proportion(label, args.train_proportion)\n",
    "#  Don't forget to modify the choose_train_and_test_proportion function in the data_prepare module."
   ]
  },
  {
   "cell_type": "code",
   "execution_count": 6,
   "metadata": {},
   "outputs": [],
   "source": [
    "def applyPCA(X, numComponents=30):\n",
    "    newX = np.reshape(X, (-1, X.shape[2]))\n",
    "    pca = PCA(n_components=numComponents, whiten=True)\n",
    "    newX = pca.fit_transform(newX)\n",
    "    newX = np.reshape(newX, (X.shape[0], X.shape[1], numComponents))\n",
    "    return newX, pca"
   ]
  },
  {
   "cell_type": "code",
   "execution_count": null,
   "metadata": {},
   "outputs": [],
   "source": [
    "K = 30\n",
    "data, pca = applyPCA(data, numComponents=K)\n",
    "np.save('./dataset/KSC_PCA.npy', data)"
   ]
  },
  {
   "cell_type": "code",
   "execution_count": 7,
   "metadata": {},
   "outputs": [
    {
     "name": "stdout",
     "output_type": "stream",
     "text": [
      "height=512, width=614, band=30\n"
     ]
    }
   ],
   "source": [
    "data = np.load('./dataset/KSC_PCA.npy')\n",
    "\n",
    "# data size\n",
    "height, width, band = data.shape\n",
    "print(\"height={0}, width={1}, band={2}\".format(height, width, band))"
   ]
  },
  {
   "cell_type": "code",
   "execution_count": 8,
   "metadata": {},
   "outputs": [
    {
     "name": "stdout",
     "output_type": "stream",
     "text": [
      "**************************************************\n",
      "patch_size is : 25\n",
      "mirror_data shape : [536, 638, 30]\n",
      "**************************************************\n",
      "x_train shape = (528, 25, 25, 30), type = float64\n",
      "x_test  shape = (4683, 25, 25, 30), type = float64\n",
      "x_true  shape = (5211, 25, 25, 30), type = float64\n",
      "**************************************************\n",
      "y_train: shape = (528,), type = int64\n",
      "y_test: shape = (4683,), type = int64\n",
      "y_true: shape = (5211,), type = int64\n",
      "**************************************************\n"
     ]
    }
   ],
   "source": [
    "mirror_data = mirror_hsi(height, width, band, data, patch_size=args.patch_size)\n",
    "\n",
    "x_train, x_test, x_true = train_and_test_data(mirror_data, band, total_pos_train, total_pos_test, \n",
    "                                              total_pos_true, patch_size=args.patch_size)\n",
    "\n",
    "y_train, y_test, y_true = train_and_test_label(number_train, number_test, number_true, num_classes)"
   ]
  },
  {
   "cell_type": "code",
   "execution_count": 9,
   "metadata": {},
   "outputs": [
    {
     "name": "stdout",
     "output_type": "stream",
     "text": [
      "torch.Size([528, 30, 25, 25])\n",
      "torch.Size([4683, 30, 25, 25])\n",
      "torch.Size([5211, 30, 25, 25])\n"
     ]
    }
   ],
   "source": [
    "# load data\n",
    "x_train = torch.from_numpy(x_train.transpose(0, 3, 1, 2)).type(torch.FloatTensor)  # (13, 176, 7, 7)\n",
    "print(x_train.shape)\n",
    "y_train = torch.from_numpy(y_train).type(torch.LongTensor)  # (13,)\n",
    "Train_Label = Data.TensorDataset(x_train, y_train)\n",
    "\n",
    "x_test = torch.from_numpy(x_test.transpose(0, 3, 1, 2)).type(torch.FloatTensor)  # (5198, 176, 7, 7)\n",
    "print(x_test.shape)\n",
    "y_test = torch.from_numpy(y_test).type(torch.LongTensor)  # (5198,)\n",
    "Test_Label = Data.TensorDataset(x_test, y_test)\n",
    "\n",
    "x_true = torch.from_numpy(x_true.transpose(0, 3, 1, 2)).type(torch.FloatTensor)  # (5211, 176, 7, 7)\n",
    "print(x_true.shape)\n",
    "y_true = torch.from_numpy(y_true).type(torch.LongTensor)\n",
    "True_Label = Data.TensorDataset(x_true, y_true)\n",
    "\n",
    "train_loader = Data.DataLoader(Train_Label, batch_size=args.batch_size, shuffle=True)\n",
    "test_loader = Data.DataLoader(Test_Label, batch_size=args.batch_size, shuffle=False)\n",
    "true_loader = Data.DataLoader(True_Label, batch_size=100, shuffle=False)"
   ]
  },
  {
   "cell_type": "markdown",
   "metadata": {
    "id": "0D_5INAM4u33"
   },
   "source": [
    "## **Model**"
   ]
  },
  {
   "cell_type": "markdown",
   "metadata": {
    "id": "CBmkAG3_43c-"
   },
   "source": [
    "#### Capsule Network Model"
   ]
  },
  {
   "cell_type": "code",
   "execution_count": 10,
   "metadata": {
    "id": "Qp1hds7dy_9v"
   },
   "outputs": [],
   "source": [
    "class PrimaryCaps(nn.Module):\n",
    "    \n",
    "    def __init__(self, A=64, B=32, K=1, P=4, stride=1):\n",
    "        super(PrimaryCaps, self).__init__()\n",
    "        self.pose = nn.Conv2d(in_channels=A, out_channels=B*P*P,\n",
    "                            kernel_size=K, stride=stride, bias=True)\n",
    "        self.a = nn.Conv2d(in_channels=A, out_channels=B,\n",
    "                            kernel_size=K, stride=stride, bias=True)\n",
    "        self.sigmoid = nn.Sigmoid()\n",
    "\n",
    "    def forward(self, x):\n",
    "        p = self.pose(x)  # (batch, 32x4x4, 13, 13)\n",
    "        a = self.a(x)  # (batch, 32, 13, 13)\n",
    "        a = self.sigmoid(a)\n",
    "        out = torch.cat([p, a], dim=1)\n",
    "        out = out.permute(0, 2, 3, 1)\n",
    "        return out  # (batch, 13, 13, 544)"
   ]
  },
  {
   "cell_type": "code",
   "execution_count": 11,
   "metadata": {
    "id": "Ey4FeNfp42l7"
   },
   "outputs": [],
   "source": [
    "class ConvCaps(nn.Module):\n",
    "\n",
    "    def __init__(self, B=32, C=16, K=3, P=4, stride=2, iters=3, coor_add=False, w_shared=False):\n",
    "        super(ConvCaps, self).__init__()\n",
    "        self.B = B\n",
    "        self.C = C\n",
    "        self.K = K\n",
    "        self.P = P\n",
    "        self.psize = P*P  # 16\n",
    "        self.stride = stride  # 2\n",
    "        self.iters = iters\n",
    "        self.coor_add = coor_add\n",
    "        self.w_shared = w_shared\n",
    "        self.eps = 1e-8\n",
    "        self._lambda = 1e-03\n",
    "        self.ln_2pi = torch.cuda.FloatTensor(1).fill_(math.log(2*math.pi))  # tensor([1.8379])\n",
    "\n",
    "        self.beta_u = nn.Parameter(torch.zeros(C))  # tensor([0, 0, ...,0])\n",
    "        self.beta_a = nn.Parameter(torch.zeros(C))\n",
    "\n",
    "        self.weights = nn.Parameter(torch.randn(1, K*K*B, C, P, P))  # (1, 3x3x32, 16, 4, 4) 类似胶囊网络中的权重 or (1, 1x1x16, 16, 4, 4)\n",
    "        self.sigmoid = nn.Sigmoid()\n",
    "        self.softmax = nn.Softmax(dim=2)\n",
    "\n",
    "    def m_step(self, a_in, r, v, eps, b, B, C, psize):\n",
    "        # v: (batchx6x6, 3x3x32, 16, 16)\n",
    "        r = r * a_in  # (batchx6x6, 3x3x32, 16) 这里的16表示每个位置的父胶囊的个数\n",
    "        r = r / (r.sum(dim=2, keepdim=True) + eps)  # (batchx6x6, 3x3x32, 16) 这一步的目的是使r重新表示成概率(和为1)\n",
    "        r_sum = r.sum(dim=1, keepdim=True)  # (batchx6x6, 1, 16) 这里的3x3x32可以看作巻积胶囊层中初级胶囊的个数\n",
    "        coeff = r / (r_sum + eps)  # (batchx6x6, 3x3x32, 16)\n",
    "        coeff = coeff.view(b, B, C, 1)  # (batchx6x6, 3x3x32, 16, 1)\n",
    "\n",
    "        mu = torch.sum(coeff * v, dim=1, keepdim=True)  # (batchx6x6, 1, 16, 16)\n",
    "        # 这里的代码实现先计算了一个coeff，对应M-Step中的第二步，并没有错哦，只是有点儿巧妙\n",
    "        sigma_sq = torch.sum(coeff * (v - mu)**2, dim=1, keepdim=True) + eps  # (batchx6x6, 1, 16, 16)\n",
    "\n",
    "        r_sum = r_sum.view(b, C, 1)  # (batchx6x6, 16, 1)\n",
    "        sigma_sq = sigma_sq.view(b, C, psize)  # (batchx6x6, 16, 16)\n",
    "        cost_h = (self.beta_u.view(C, 1) + torch.log(sigma_sq.sqrt())) * r_sum  # (batchx6x6, 16, 16)\n",
    "\n",
    "        a_out = self.sigmoid(self._lambda*(self.beta_a - cost_h.sum(dim=2))) # cost_h.sum(dim=2)表示对每个父胶囊在特征维度求和 (batchx6x6, 16)\n",
    "        sigma_sq = sigma_sq.view(b, 1, C, psize)  # (batchx6x6, 1, 16, 16)\n",
    "\n",
    "        return a_out, mu, sigma_sq  # (batchx6x6, 16), (batchx6x6, 1, 16, 16), (batchx6x6, 1, 16, 16) 父胶囊激活，父胶囊分布的均值，父胶囊分布的方差\n",
    "\n",
    "    def e_step(self, mu, sigma_sq, a_out, v, eps, b, C):\n",
    "        # v: (batchx6x6, 3x3x32, 16, 16)\n",
    "        ln_p_j_h = -1. * (v - mu)**2 / (2 * sigma_sq) - torch.log(sigma_sq.sqrt()) - 0.5*self.ln_2pi  # 太过于精彩!!!!!看到这里你豁然开朗了吗？？？\n",
    "        # 这一步在计算所有初级胶囊的投票与父胶囊分布的均值之间的相似性，根据这个相似性来重新计算概率分配，你，懂了吗？？？ (batchx6x6, 3x3x32, 16, 16)\n",
    "        ln_ap = ln_p_j_h.sum(dim=3) + torch.log(a_out.view(b, 1, C))  # 那既然对p_j_h求对数了，也要对a求对数  (batchx6x6, 3x3x32, 16)\n",
    "        r = self.softmax(ln_ap)  # 重新计算的概率分配 (batchx6x6, 3x3x32, 16)\n",
    "        return r\n",
    "\n",
    "    def caps_em_routing(self, v, a_in, C, eps):\n",
    "\n",
    "        b, B, c, psize = v.shape  # (batchx6x6, 3x3x32, 16, 16)\n",
    "        assert c == C\n",
    "        assert (b, B, 1) == a_in.shape  # (batchx6x6, 3x3x32, 1)\n",
    "\n",
    "        r = torch.cuda.FloatTensor(b, B, C).fill_(1./C)  # (batchx6x6, 3x3x32, 16) 分配概率rij(和为1)\n",
    "        for iter_ in range(self.iters):\n",
    "            a_out, mu, sigma_sq = self.m_step(a_in, r, v, eps, b, B, C, psize)\n",
    "            # (batchx6x6, 16), (batchx6x6, 1, 16, 16), (batchx6x6, 1, 16, 16) 父胶囊激活，父胶囊分布的均值，父胶囊分布的方差\n",
    "            if iter_ < self.iters - 1:\n",
    "                r = self.e_step(mu, sigma_sq, a_out, v, eps, b, C)\n",
    "\n",
    "        return mu, a_out  # 返回父胶囊分布的均值(batchx6x6, 1, 16, 16)和父胶囊的激活(batchx6x6, 16)\n",
    "\n",
    "    def add_pathes(self, x, B, K, psize, stride): \n",
    "\n",
    "        b, h, w, c = x.shape  # batch, 13, 13, 544\n",
    "        assert h == w\n",
    "        assert c == B*(psize+1)\n",
    "        oh = ow = int(((h - K )/stride)+ 1)  # 6 \n",
    "        idxs = [[(h_idx + k_idx) for k_idx in range(0, K)] for h_idx in range(0, h - K + 1, stride)]\n",
    "        x = x[:, idxs, :, :]  # (batch, 6, 3, 13, 544)\n",
    "        x = x[:, :, :, idxs, :]  # (batch, 6, 3, 6, 3, 544)\n",
    "        x = x.permute(0, 1, 3, 2, 4, 5).contiguous()  # (batch, 6, 6, 3, 3, 544)\n",
    "        return x, oh, ow  # (batch, 6, 6, 3, 3, 544), 6, 6\n",
    "\n",
    "    def transform_view(self, x, w, C, P, w_shared=False):\n",
    "\n",
    "        b, B, psize = x.shape  # (batchx6x6, 3x3x32, 16) or (batch, 4x4x16, 16) when stride=1\n",
    "        assert psize == P*P\n",
    "\n",
    "        x = x.view(b, B, 1, P, P)  # (batchx6x6, 3x3x32, 1, 4, 4) or (batch, 4x4x16, 1, 4, 4) \n",
    "        if w_shared:\n",
    "            hw = int(B / w.size(1))  # int(4x4x16 / 1x1x16) = 4x4\n",
    "            w = w.repeat(1, hw, 1, 1, 1)  # (1, 4x4x16, 16, 4, 4)\n",
    "\n",
    "        w = w.repeat(b, 1, 1, 1, 1)  # (batchx6x6, 3x3x32, 16, 4, 4) or (batch, 4x4x16, 16, 4, 4)\n",
    "        x = x.repeat(1, 1, C, 1, 1)  # (batchx6x6, 3x3x32, 16, 4, 4) or (batch, 4x4x16, 16, 4, 4)\n",
    "        v = torch.matmul(x, w)\n",
    "        v = v.view(b, B, C, P*P)  # (batchx6x6, 3x3x32, 16, 16) 所有初级胶囊i对于所有胶囊j的投票结果 or (batch, 4x4x16, 16, 16)\n",
    "        return v\n",
    "\n",
    "    def add_coord(self, v, b, h, w, B, C, psize):\n",
    "        # v: (batch, 4x4x16, 16, 16)\n",
    "        assert h == w\n",
    "        v = v.view(b, h, w, B, C, psize)  # (batch, 4, 4, 16, 16, 16)\n",
    "        coor = torch.arange(h, dtype=torch.float32) / h\n",
    "        coor_h = torch.cuda.FloatTensor(1, h, 1, 1, 1, self.psize).fill_(0.)  # (1, 4, 1, 1, 1, 16)\n",
    "        coor_w = torch.cuda.FloatTensor(1, 1, w, 1, 1, self.psize).fill_(0.)  # (1, 1, 4, 1, 1, 16)\n",
    "        coor_h[0, :, 0, 0, 0, 0] = coor\n",
    "        coor_w[0, 0, :, 0, 0, 1] = coor\n",
    "        v = v + coor_h + coor_w  # 添加坐标是否可以理解为添加位置信息？？？？？？？？？？？\n",
    "        v = v.view(b, h*w*B, C, psize)  # (batch, 4x4x16, 16, 16)\n",
    "        return v\n",
    "\n",
    "    def forward(self, x):\n",
    "        b, h, w, c = x.shape  # (batch, 13, 13, 544)\n",
    "        if not self.w_shared:\n",
    "            x, oh, ow = self.add_pathes(x, self.B, self.K, self.psize, self.stride) #  (batch, 6, 6, 3, 3, 544), 6, 6\n",
    "\n",
    "            p_in = x[:, :, :, :, :, :self.B*self.psize].contiguous()  # (batch, 6, 6, 3, 3, 512)\n",
    "            a_in = x[:, :, :, :, :, self.B*self.psize:].contiguous()  # (batch, 6, 6, 3, 3, 32)\n",
    "            p_in = p_in.view(b*oh*ow, self.K*self.K*self.B, self.psize)  # (batchx6x6, 3x3x32, 16) 这里的3x3x32可以看作巻积胶囊层中初级胶囊的个数\n",
    "            a_in = a_in.view(b*oh*ow, self.K*self.K*self.B, 1)  # (batchx6x6, 3x3x32, 1)\n",
    "            v = self.transform_view(p_in, self.weights, self.C, self.P)  # (batchx6x6, 3x3x32, 16, 16) 初级胶囊对父胶囊的投票\n",
    "\n",
    "            p_out, a_out = self.caps_em_routing(v, a_in, self.C, self.eps) # 返回父胶囊分布的均值(batchx6x6, 1, 16, 16)和父胶囊的激活(batchx6x6, 16)\n",
    "            p_out = p_out.view(b, oh, ow, self.C*self.psize)  # （batch, 6, 6, 16x16）\n",
    "            a_out = a_out.view(b, oh, ow, self.C)  # (batch, 6, 6, 16)\n",
    "            out = torch.cat([p_out, a_out], dim=3) # (batch, 6, 6, (16+1)x16)\n",
    "        else:\n",
    "            # x: (batch, 4, 4, (16+1)x16)\n",
    "            assert c == self.B*(self.psize+1)\n",
    "            assert 1 == self.K\n",
    "            assert 1 == self.stride\n",
    "            p_in = x[:, :, :, :self.B*self.psize].contiguous() # (batch, 4, 4, 16x16)\n",
    "            p_in = p_in.view(b, h*w*self.B, self.psize)  # (batch, 4x4x16, 16)\n",
    "            a_in = x[:, :, :, self.B*self.psize:].contiguous()  # (batch, 4, 4, 16)\n",
    "            a_in = a_in.view(b, h*w*self.B, 1)  # (batch, 4x4x16, 1)\n",
    "\n",
    "            v = self.transform_view(p_in, self.weights, self.C, self.P, self.w_shared)  # (batch, 4x4x16, 16, 16)\n",
    "\n",
    "            if self.coor_add:\n",
    "                v = self.add_coord(v, b, h, w, self.B, self.C, self.psize)\n",
    "\n",
    "            _, out = self.caps_em_routing(v, a_in, self.C, self.eps)  # 返回父胶囊的激活(batch, 16)\n",
    "\n",
    "        return out"
   ]
  },
  {
   "cell_type": "code",
   "execution_count": 12,
   "metadata": {
    "id": "GKbBGB1FzGPw"
   },
   "outputs": [],
   "source": [
    "class CapsNet(nn.Module):\n",
    "\n",
    "    def __init__(self, A=64, B=32, C=16, D=16, E=16, K=3, P=4, iters=3, pca_components=30):\n",
    "        super(CapsNet, self).__init__()\n",
    "        self.conv1 = nn.Conv2d(in_channels=pca_components, out_channels=A,\n",
    "                               kernel_size=5, stride=2, padding=2)\n",
    "        self.bn1 = nn.BatchNorm2d(num_features=A, eps=0.001,\n",
    "                                 momentum=0.1, affine=True)\n",
    "        self.relu1 = nn.ReLU(inplace=False)\n",
    "        self.primary_caps = PrimaryCaps(A, B, 1, P, stride=1)\n",
    "        self.conv_caps1 = ConvCaps(B, C, K, P, stride=2, iters=iters)\n",
    "        self.conv_caps2 = ConvCaps(C, D, K, P, stride=1, iters=iters)\n",
    "        self.class_caps = ConvCaps(D, E, 1, P, stride=1, iters=iters,\n",
    "                                        coor_add=True, w_shared=True)\n",
    "\n",
    "    def forward(self, x):\n",
    "        x = self.conv1(x)\n",
    "        x = self.bn1(x)\n",
    "        x = self.relu1(x)\n",
    "        x = self.primary_caps(x) # (batch, 13, 13, 544)\n",
    "        x = self.conv_caps1(x)  # (batch, 6, 6, (16+1)x16)\n",
    "        x = self.conv_caps2(x)  # (batch, 4, 4, (16+1)x16)\n",
    "        x = self.class_caps(x)  # (batch, 16)\n",
    "        return x"
   ]
  },
  {
   "cell_type": "markdown",
   "metadata": {
    "id": "4ypxKKRG5hvO"
   },
   "source": [
    "#### Loss Function"
   ]
  },
  {
   "cell_type": "code",
   "execution_count": 13,
   "metadata": {
    "id": "4J7NoS985UHc"
   },
   "outputs": [],
   "source": [
    "class SpreadLoss(_Loss):\n",
    "\n",
    "    def __init__(self, m_min=0.2, m_max=0.9, num_class=16):\n",
    "        super(SpreadLoss, self).__init__()\n",
    "        self.m_min = m_min\n",
    "        self.m_max = m_max\n",
    "        self.num_class = num_class\n",
    "\n",
    "    def forward(self, x, target, r):\n",
    "        b, E = x.shape  # batch, 16\n",
    "        assert E == self.num_class\n",
    "        margin = self.m_min + (self.m_max - self.m_min)*r  # 0.2 + (0.5 - 0.2) * r\n",
    "\n",
    "        at = torch.cuda.FloatTensor(b).fill_(0)  # (batch, )\n",
    "        for i, a in enumerate(target):\n",
    "            lb = int(a.item())  # 真实标签，整数值，并不是one-hot\n",
    "            at[i] = x[i][lb]  # 对应真实标签的类别胶囊激活值\n",
    "        at = at.view(b, 1).repeat(1, E)  # (batch, 16)\n",
    "\n",
    "        zeros = x.new_zeros(x.shape)  # (batch, 16)\n",
    "        loss = torch.max(margin - (at - x), zeros)  # (batch, 16)\n",
    "        loss = loss**2\n",
    "        loss = loss.sum() / b - margin**2 \n",
    "\n",
    "        return loss"
   ]
  },
  {
   "cell_type": "markdown",
   "metadata": {
    "id": "05AZSkZ16Jxp"
   },
   "source": [
    "## **Training Setup**"
   ]
  },
  {
   "cell_type": "markdown",
   "metadata": {
    "id": "aq1YU_XD7Cco"
   },
   "source": [
    "#### Accuracy Function"
   ]
  },
  {
   "cell_type": "markdown",
   "metadata": {
    "id": "6zWNMYc87U-4"
   },
   "source": [
    "#### Train Function"
   ]
  },
  {
   "cell_type": "code",
   "execution_count": 14,
   "metadata": {},
   "outputs": [],
   "source": [
    "def exp_lr_decay(optimizer, global_step, init_lr = 3e-3, decay_steps = 20000,\n",
    "                                        decay_rate = 0.96, lr_clip = 3e-3 ,staircase=False):\n",
    "        \n",
    "    if staircase:\n",
    "        lr = (init_lr * decay_rate**(global_step // decay_steps)) \n",
    "    else:\n",
    "        lr = (init_lr * decay_rate**(global_step / decay_steps)) \n",
    "    \n",
    "    for param_group in optimizer.param_groups:\n",
    "        param_group['lr'] = lr"
   ]
  },
  {
   "cell_type": "code",
   "execution_count": 15,
   "metadata": {
    "id": "Gvsb63dX7R_X"
   },
   "outputs": [],
   "source": [
    "# train model\n",
    "def train(model, train_loader, criterion, optimizer, epoch):\n",
    "    objs = AverageMeter()\n",
    "    top1 = AverageMeter()\n",
    "    tar = np.array([])\n",
    "    pre = np.array([])\n",
    "    train_len = len(train_loader)\n",
    "    \n",
    "    for batch_idx, (batch_data, batch_target) in enumerate(train_loader):\n",
    "        batch_data = batch_data.cuda()\n",
    "        batch_target = batch_target.cuda()   \n",
    "        \n",
    "        optimizer.zero_grad()\n",
    "        batch_pred = model(batch_data)  # (batch, 13)\n",
    "        \n",
    "        r = (1.*batch_idx + (epoch-1)*train_len) / (epoch*train_len)  # 表示当前训练轮次的训练数据的进度条\n",
    "        loss = criterion(batch_pred, batch_target, r)\n",
    "        \n",
    "        global_step = (batch_idx+1) + (epoch - 1) * len(train_loader) \n",
    "        exp_lr_decay(optimizer=optimizer, global_step=global_step)\n",
    "        \n",
    "        loss.backward()\n",
    "        optimizer.step()\n",
    "        \n",
    "        prec1, t, p = accuracy(batch_pred, batch_target, topk=(1,))\n",
    "        n = batch_data.shape[0]\n",
    "        objs.update(loss.data, n)  # 计算所有训练样本的平均损失\n",
    "        top1.update(prec1[0].data, n)  # 计算所有训练样本的平均准确率\n",
    "        tar = np.append(tar, t.data.cpu().numpy())\n",
    "        pre = np.append(pre, p.data.cpu().numpy())\n",
    "    return top1.avg, objs.avg, tar, pre"
   ]
  },
  {
   "cell_type": "markdown",
   "metadata": {
    "id": "iZzi5Vn27d-X"
   },
   "source": [
    "#### Test Function"
   ]
  },
  {
   "cell_type": "code",
   "execution_count": 16,
   "metadata": {},
   "outputs": [],
   "source": [
    "# test model\n",
    "def test(model, test_loader):\n",
    "    tar = np.array([])\n",
    "    pre = np.array([])\n",
    "    with torch.no_grad():\n",
    "        for batch_idx, (batch_data, batch_target) in enumerate(test_loader):\n",
    "            batch_data = batch_data.cuda()\n",
    "            batch_target = batch_target.cuda()\n",
    "            \n",
    "            batch_pred = model(batch_data)  # (batch, 13)\n",
    "            _, pred = batch_pred.topk(1, axis=1)  # (100, 1)\n",
    "            pp = pred.squeeze()  # (100, )\n",
    "            \n",
    "            tar = np.append(tar, batch_target.data.cpu().numpy())\n",
    "            pre = np.append(pre, pp.data.cpu().numpy())\n",
    "    return tar, pre\n",
    "\n",
    "\n",
    "def valid(model, true_loader):\n",
    "    pre = np.array([])\n",
    "    for batch_idx, (batch_data, batch_target) in enumerate(true_loader):\n",
    "        batch_data = batch_data.cuda()\n",
    "        batch_target = batch_target.cuda()\n",
    "        \n",
    "        batch_pred = model(batch_data)  # (100, 13)\n",
    "        _, pred = batch_pred.topk(1, axis=1)  # (100, 1)\n",
    "        pp = pred.squeeze()  # (100, )\n",
    "        pre = np.append(pre, pp.data.cpu().numpy())\n",
    "    return pre  # (100, )"
   ]
  },
  {
   "cell_type": "markdown",
   "metadata": {
    "id": "5hRWF2apsMzc"
   },
   "source": [
    "## **Training Process**"
   ]
  },
  {
   "cell_type": "markdown",
   "metadata": {
    "id": "SGwX3eimsZmA"
   },
   "source": [
    "#### Model Initialization"
   ]
  },
  {
   "cell_type": "code",
   "execution_count": 17,
   "metadata": {
    "colab": {
     "base_uri": "https://localhost:8080/"
    },
    "id": "8_YYc6YxsXZV",
    "outputId": "c124fbdb-9d50-47ca-a201-dcd1dd5022dd"
   },
   "outputs": [],
   "source": [
    "model = CapsNet(A=64, B=32, C=16, D=16, E=num_classes, iters=2).cuda()\n",
    "criterion = SpreadLoss(num_class=num_classes, m_min=0.2, m_max=0.5)\n",
    "optimizer = optim.Adam(model.parameters(), lr = args.learning_rate, weight_decay=args.weight_decay)\n",
    "#scheduler = optim.lr_scheduler.ExponentialLR(optimizer, gamma=args.gamma)"
   ]
  },
  {
   "cell_type": "code",
   "execution_count": 18,
   "metadata": {
    "colab": {
     "base_uri": "https://localhost:8080/"
    },
    "id": "ayyIRBgr7goB",
    "outputId": "f52d0130-1a54-4280-ba2a-cd8ac150c929",
    "scrolled": true,
    "tags": []
   },
   "outputs": [
    {
     "name": "stdout",
     "output_type": "stream",
     "text": [
      "Epoch: 001 train_loss: 0.7997 train_acc: 46.5909\n",
      "Epoch: 002 train_loss: 0.6925 train_acc: 69.6970\n",
      "Epoch: 003 train_loss: 0.5425 train_acc: 78.5985\n",
      "Epoch: 004 train_loss: 0.4065 train_acc: 87.8788\n",
      "Epoch: 005 train_loss: 0.3240 train_acc: 91.0985\n",
      "Epoch: 006 train_loss: 0.2787 train_acc: 92.4242\n",
      "Epoch: 007 train_loss: 0.2341 train_acc: 92.0455\n",
      "Epoch: 008 train_loss: 0.2010 train_acc: 93.5606\n",
      "Epoch: 009 train_loss: 0.1770 train_acc: 94.3182\n",
      "Epoch: 010 train_loss: 0.1535 train_acc: 94.1288\n",
      "Epoch: 011 train_loss: 0.1342 train_acc: 95.4546\n",
      "Epoch: 012 train_loss: 0.1471 train_acc: 93.9394\n",
      "Epoch: 013 train_loss: 0.1317 train_acc: 96.5909\n",
      "Epoch: 014 train_loss: 0.1071 train_acc: 96.9697\n",
      "Epoch: 015 train_loss: 0.1071 train_acc: 96.4015\n",
      "Epoch: 016 train_loss: 0.0951 train_acc: 96.9697\n",
      "Epoch: 017 train_loss: 0.0816 train_acc: 96.0227\n",
      "Epoch: 018 train_loss: 0.0762 train_acc: 98.1061\n",
      "Epoch: 019 train_loss: 0.0621 train_acc: 98.8636\n",
      "Epoch: 020 train_loss: 0.0637 train_acc: 98.6742\n",
      "Epoch: 021 train_loss: 0.0483 train_acc: 98.6742\n",
      "Epoch: 022 train_loss: 0.0419 train_acc: 99.6212\n",
      "Epoch: 023 train_loss: 0.0569 train_acc: 98.6742\n",
      "Epoch: 024 train_loss: 0.0444 train_acc: 99.2424\n",
      "Epoch: 025 train_loss: 0.0430 train_acc: 98.6742\n",
      "Epoch: 026 train_loss: 0.0365 train_acc: 99.6212\n",
      "Epoch: 027 train_loss: 0.0317 train_acc: 99.6212\n",
      "Epoch: 028 train_loss: 0.0240 train_acc: 99.8106\n",
      "Epoch: 029 train_loss: 0.0501 train_acc: 96.9697\n",
      "Epoch: 030 train_loss: 0.0994 train_acc: 96.7803\n",
      "Epoch: 031 train_loss: 0.0798 train_acc: 98.1061\n",
      "Epoch: 032 train_loss: 0.1533 train_acc: 94.6970\n",
      "Epoch: 033 train_loss: 0.1686 train_acc: 96.2121\n",
      "Epoch: 034 train_loss: 0.1336 train_acc: 94.6970\n",
      "Epoch: 035 train_loss: 0.1138 train_acc: 97.3485\n",
      "Epoch: 036 train_loss: 0.1141 train_acc: 97.1591\n",
      "Epoch: 037 train_loss: 0.1229 train_acc: 94.8864\n",
      "Epoch: 038 train_loss: 0.0925 train_acc: 97.1591\n",
      "Epoch: 039 train_loss: 0.0538 train_acc: 99.2424\n",
      "Epoch: 040 train_loss: 0.0320 train_acc: 99.8106\n",
      "Epoch: 041 train_loss: 0.0253 train_acc: 99.4318\n",
      "Epoch: 042 train_loss: 0.0340 train_acc: 98.2955\n",
      "Epoch: 043 train_loss: 0.0182 train_acc: 100.0000\n",
      "Epoch: 044 train_loss: 0.0200 train_acc: 99.8106\n",
      "Epoch: 045 train_loss: 0.0216 train_acc: 99.6212\n",
      "Epoch: 046 train_loss: 0.0156 train_acc: 100.0000\n",
      "Epoch: 047 train_loss: 0.0151 train_acc: 99.6212\n",
      "Epoch: 048 train_loss: 0.0159 train_acc: 100.0000\n",
      "Epoch: 049 train_loss: 0.0154 train_acc: 100.0000\n",
      "Epoch: 050 train_loss: 0.0118 train_acc: 99.8106\n",
      "Running Time: 161.94\n",
      "**************************************************\n"
     ]
    }
   ],
   "source": [
    "tic = time.time()\n",
    "\n",
    "for epoch in range(1, args.epoches+1):\n",
    "    # train model\n",
    "    model.train()\n",
    "    # 计算的是移动平均准确率\n",
    "    train_acc, train_obj, tar_train, pre_train = train(model, train_loader, criterion, optimizer, epoch)\n",
    "    OA_trian, AA_mean_train, Kappa_train, AA_train = output_metric(tar_train, pre_train)\n",
    "    print(\"Epoch: {:03d} train_loss: {:.4f} train_acc: {:.4f}\".format(epoch, train_obj, train_acc))\n",
    "    #scheduler.step()\n",
    "    \n",
    "toc = time.time()\n",
    "print(\"Running Time: {:.2f}\".format(toc-tic))\n",
    "print(\"**************************************************\")"
   ]
  },
  {
   "cell_type": "markdown",
   "metadata": {
    "id": "1-PusJd6f_FQ"
   },
   "source": [
    "#### Testing time!"
   ]
  },
  {
   "cell_type": "code",
   "execution_count": 19,
   "metadata": {
    "colab": {
     "base_uri": "https://localhost:8080/"
    },
    "id": "-BoOtctOAApZ",
    "outputId": "182a43a8-86a0-4a79-b9cf-5963c0519689"
   },
   "outputs": [
    {
     "data": {
      "image/png": "[encoded data removed]",
      "text/plain": [
       "<Figure size 936x720 with 2 Axes>"
      ]
     },
     "metadata": {
      "needs_background": "light"
     },
     "output_type": "display_data"
    },
    {
     "name": "stdout",
     "output_type": "stream",
     "text": [
      "**************************************************\n",
      "Final result:\n",
      "OA: 97.07% | AA: 95.94% | Kappa: 0.9674\n",
      "[0.9619883  0.97247706 1.         0.92920354 0.81944444 0.88349515\n",
      " 1.         0.99224806 1.         0.96969697 0.99734748 0.94690265\n",
      " 1.        ]\n",
      "**************************************************\n",
      "Parameter:\n",
      "dataset: KSC\n",
      "flag_test: train\n",
      "gpu_id: 0\n",
      "seed: 0\n",
      "batch_size: 32\n",
      "patch_size: 25\n",
      "epoches: 50\n",
      "weight_decay: 2e-07\n",
      "learning_rate: 0.003\n",
      "gamma: 0.99\n",
      "train_number: 1\n",
      "train_proportion: 0.1\n",
      "**************************************************\n"
     ]
    }
   ],
   "source": [
    "model.eval()\n",
    "tar_test, pre_test = test(model, test_loader)  # 收集所有真实标签和预测标签(np.array)\n",
    "OA_test, AA_mean_test, Kappa_test, AA_test = output_metric(tar_test, pre_test)\n",
    "\n",
    "# output classification maps\n",
    "#pre_u = valid(net, true_loader)\n",
    "#prediction_matrix = np.zeros((height, width), dtype=float)  # (512, 614)\n",
    "#for i in range(total_pos_true.shape[0]):\n",
    "#    prediction_matrix[total_pos_true[i, 0], total_pos_true[i, 1]] = pre_u[i] + 1\n",
    "cm = confusion_matrix(tar_test, pre_test)\n",
    "plot_confusion_matrix(args.dataset, cm, path='./Confusion_DMC.pdf')\n",
    "\n",
    "print(\"**************************************************\")\n",
    "print(\"Final result:\")\n",
    "print(\"OA: {:.2f}% | AA: {:.2f}% | Kappa: {:.4f}\".format(OA_test * 100., AA_mean_test*100., Kappa_test))\n",
    "print(AA_test)\n",
    "print(\"**************************************************\")\n",
    "print(\"Parameter:\")\n",
    "print_args(vars(args))\n",
    "print(\"**************************************************\")"
   ]
  },
  {
   "cell_type": "code",
   "execution_count": 20,
   "metadata": {
    "colab": {
     "base_uri": "https://localhost:8080/",
     "height": 431
    },
    "id": "jKAdGZCMa80E",
    "outputId": "00651f50-9365-4634-982b-eadc90f2362a"
   },
   "outputs": [],
   "source": [
    "average_accuracy = str(list(np.around(AA_test, 7)))\n",
    "file_name = \"./CR/DM-Capsnet_1.txt\"\n",
    "\n",
    "with open(file_name, 'w') as x_file:\n",
    "    x_file.write(\"[{:.5f}, {:.5f}, {:.7f}]\".format(OA_test * 100., AA_mean_test*100., Kappa_test))\n",
    "    x_file.write('\\n')\n",
    "    x_file.write('{}'.format(average_accuracy))"
   ]
  },
  {
   "cell_type": "code",
   "execution_count": null,
   "metadata": {},
   "outputs": [],
   "source": []
  }
 ],
 "metadata": {
  "accelerator": "GPU",
  "colab": {
   "collapsed_sections": [],
   "machine_shape": "hm",
   "name": "[FINAL] IndianPinesSeed3.ipynb",
   "provenance": []
  },
  "kernelspec": {
   "display_name": "Python 3 (ipykernel)",
   "language": "python",
   "name": "python3"
  },
  "language_info": {
   "codemirror_mode": {
    "name": "ipython",
    "version": 3
   },
   "file_extension": ".py",
   "mimetype": "text/x-python",
   "name": "python",
   "nbconvert_exporter": "python",
   "pygments_lexer": "ipython3",
   "version": "3.10.12"
  }
 },
 "nbformat": 4,
 "nbformat_minor": 4
}
