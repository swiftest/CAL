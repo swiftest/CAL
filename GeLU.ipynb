{
 "cells": [
  {
   "cell_type": "code",
   "execution_count": 1,
   "id": "7477a63f",
   "metadata": {},
   "outputs": [
    {
     "ename": "ModuleNotFoundError",
     "evalue": "No module named 'torch'",
     "output_type": "error",
     "traceback": [
      "\u001b[1;31m---------------------------------------------------------------------------\u001b[0m",
      "\u001b[1;31mModuleNotFoundError\u001b[0m                       Traceback (most recent call last)",
      "\u001b[1;32m~\\AppData\\Local\\Temp/ipykernel_14352/383537402.py\u001b[0m in \u001b[0;36m<module>\u001b[1;34m\u001b[0m\n\u001b[1;32m----> 1\u001b[1;33m \u001b[1;32mimport\u001b[0m \u001b[0mtorch\u001b[0m\u001b[1;33m\u001b[0m\u001b[1;33m\u001b[0m\u001b[0m\n\u001b[0m\u001b[0;32m      2\u001b[0m \u001b[1;32mimport\u001b[0m \u001b[0mtorch\u001b[0m\u001b[1;33m.\u001b[0m\u001b[0mnn\u001b[0m \u001b[1;32mas\u001b[0m \u001b[0mnn\u001b[0m\u001b[1;33m\u001b[0m\u001b[1;33m\u001b[0m\u001b[0m\n\u001b[0;32m      3\u001b[0m \u001b[1;32mimport\u001b[0m \u001b[0mnumpy\u001b[0m \u001b[1;32mas\u001b[0m \u001b[0mnp\u001b[0m\u001b[1;33m\u001b[0m\u001b[1;33m\u001b[0m\u001b[0m\n\u001b[0;32m      4\u001b[0m \u001b[1;32mimport\u001b[0m \u001b[0mmatplotlib\u001b[0m\u001b[1;33m\u001b[0m\u001b[1;33m\u001b[0m\u001b[0m\n\u001b[0;32m      5\u001b[0m \u001b[1;32mimport\u001b[0m \u001b[0mmatplotlib\u001b[0m\u001b[1;33m.\u001b[0m\u001b[0mpyplot\u001b[0m \u001b[1;32mas\u001b[0m \u001b[0mplt\u001b[0m\u001b[1;33m\u001b[0m\u001b[1;33m\u001b[0m\u001b[0m\n",
      "\u001b[1;31mModuleNotFoundError\u001b[0m: No module named 'torch'"
     ]
    }
   ],
   "source": [
    "import torch\n",
    "import torch.nn as nn\n",
    "import numpy as np\n",
    "import matplotlib\n",
    "import matplotlib.pyplot as plt\n",
    "import math\n",
    "\n",
    "\n",
    "%matplotlib inline"
   ]
  },
  {
   "cell_type": "code",
   "execution_count": null,
   "id": "69efde76",
   "metadata": {},
   "outputs": [],
   "source": [
    "def leaky_relu(z, alpha=0.1):\n",
    "    return np.maximum(alpha*z, z)"
   ]
  },
  {
   "cell_type": "code",
   "execution_count": null,
   "id": "eb26fb26",
   "metadata": {},
   "outputs": [],
   "source": [
    "font_style = dict(family='DejaVu Sans', weight='black', size=14)\n",
    "\n",
    "fig = plt.figure(figsize=(15, 8))\n",
    "plt.grid(alpha=0.3)\n",
    "\n",
    "ax = plt.gca()  # get current axis 获得坐标轴对象\n",
    "\n",
    "# 将右边、上边这两条边颜色设置为空 其实就相当于抹掉这两条边\n",
    "ax.spines['right'].set_color('none')\n",
    "ax.spines['top'].set_color('none')\n",
    "\n",
    "# 指定下边作为x轴，指定左边作为y轴\n",
    "ax.xaxis.set_ticks_position('bottom')\n",
    "ax.yaxis.set_ticks_position('left')\n",
    "\n",
    "# 指定data设置的bottom(也就是指定的x轴)绑定到y轴的0这个点上\n",
    "ax.spines['bottom'].set_position(('data', 0))\n",
    "ax.spines['left'].set_position(('data', 0))\n",
    "\n",
    "x = torch.linspace(-5, 5, 5000)\n",
    "y1 = 0.5 * x * (1 + torch.tanh(math.sqrt(2/math.pi) * (x + 0.044715 * x**3)))\n",
    "y2 = (math.e**x - math.e**(-x)) / (math.e**x + math.e**(-x))\n",
    "y3 = torch.max(torch.Tensor([0]), x)\n",
    "# 函数图像\n",
    "plt.plot(x.numpy(), y3.numpy(), 'r-', linewidth=2, label='ReLU')\n",
    "plt.plot(x.numpy(), leaky_relu(x, 0.1), linewidth=2, label='Leaky ReLU')\n",
    "plt.plot(x.numpy(), y1.numpy(), linewidth=2, label='GELU')\n",
    "plt.plot(x.numpy(), y2.numpy(), 'b-', linewidth=2, label='Tanh')\n",
    "plt.legend(fontsize=15)\n",
    "plt.show()\n",
    "fig.savefig('./activation.pdf', dpi=300, bbox_inches='tight')"
   ]
  },
  {
   "cell_type": "code",
   "execution_count": null,
   "id": "d95f75c5",
   "metadata": {
    "scrolled": true
   },
   "outputs": [],
   "source": [
    "help(nn.GELU)"
   ]
  },
  {
   "cell_type": "markdown",
   "id": "e7b4f9aa",
   "metadata": {},
   "source": [
    "\\begin{equation}\n",
    "%\\text{GELU}(x) = x * \\Phi(x)\n",
    "\\text{GELU}(x) = 0.5 * x * (1 + \\text{Tanh}(\\sqrt{2 / \\pi} * (x + 0.044715 * x^3)))\n",
    "\\end{equation}"
   ]
  }
 ],
 "metadata": {
  "kernelspec": {
   "display_name": "Python 3 (ipykernel)",
   "language": "python",
   "name": "python3"
  },
  "language_info": {
   "codemirror_mode": {
    "name": "ipython",
    "version": 3
   },
   "file_extension": ".py",
   "mimetype": "text/x-python",
   "name": "python",
   "nbconvert_exporter": "python",
   "pygments_lexer": "ipython3",
   "version": "3.9.8"
  }
 },
 "nbformat": 4,
 "nbformat_minor": 5
}
